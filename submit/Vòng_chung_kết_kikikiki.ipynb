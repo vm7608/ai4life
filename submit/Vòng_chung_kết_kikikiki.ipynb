{
  "cells": [
    {
      "cell_type": "markdown",
      "metadata": {
        "id": "cQf3zvdRRins"
      },
      "source": [
        "## **Bước 0. Đăng nhập Google**"
      ]
    },
    {
      "cell_type": "code",
      "execution_count": 1,
      "metadata": {
        "colab": {
          "base_uri": "https://localhost:8080/"
        },
        "id": "ydRtcqyiRh2f",
        "outputId": "9dcdfe80-d8c7-4f8c-bb48-41a945808d53"
      },
      "outputs": [
        {
          "output_type": "stream",
          "name": "stdout",
          "text": [
            "Mounted at /content/drive\n"
          ]
        }
      ],
      "source": [
        "# Chạy ô này để đăng nhập google\n",
        "from google.colab import drive\n",
        "drive.mount(\"/content/drive\")"
      ]
    },
    {
      "cell_type": "markdown",
      "metadata": {
        "id": "1kyHgI7XB_LW"
      },
      "source": [
        "## **Bước 1. Nhập đường dẫn đến thư mục chứa dữ liệu test**"
      ]
    },
    {
      "cell_type": "markdown",
      "metadata": {
        "id": "49lZJ6nTMmPl"
      },
      "source": [
        "**TEST_ROOT_DIR** hợp lệ là một thư mục chứa các video cần dự đoán. Tương tự như cấu trúc thư mục **\"Test - Vòng loại\"** mà Ban tổ chức đã cung cấp.\n",
        "\n",
        "<img alt=\"image\" src=\"https://live.staticflickr.com/65535/53624122132_387b2c26d6_h.jpg\">\n",
        "\n",
        "Dán đường dẫn đến folder chứa dữ liệu test của BTC vào ô bên dưới và bấm chạy.\n"
      ]
    },
    {
      "cell_type": "code",
      "execution_count": 2,
      "metadata": {
        "id": "DSyXhOQ5fCO5"
      },
      "outputs": [],
      "source": [
        "# Dán đường dẫn đến folder chứa dữ liệu test của bạn tại đây\n",
        "TEST_ROOT_DIR = '/content/drive/MyDrive/ai4life/Test - Vòng loại'"
      ]
    },
    {
      "cell_type": "markdown",
      "metadata": {
        "id": "Zl4WG2otBZwV"
      },
      "source": [
        "## **Bước 2. Cài đặt thư viện và tải mô hình**"
      ]
    },
    {
      "cell_type": "code",
      "execution_count": 3,
      "metadata": {
        "colab": {
          "base_uri": "https://localhost:8080/"
        },
        "id": "qo3w4KYKasDn",
        "outputId": "b867e9d5-55a0-4de3-f1ac-46d317269ac6"
      },
      "outputs": [
        {
          "output_type": "stream",
          "name": "stdout",
          "text": [
            "\u001b[2K     \u001b[90m━━━━━━━━━━━━━━━━━━━━━━━━━━━━━━━━━━━━━━━━\u001b[0m \u001b[32m13.6/13.6 MB\u001b[0m \u001b[31m50.5 MB/s\u001b[0m eta \u001b[36m0:00:00\u001b[0m\n",
            "\u001b[2K     \u001b[90m━━━━━━━━━━━━━━━━━━━━━━━━━━━━━━━━━━━━━━━━\u001b[0m \u001b[32m84.1/84.1 kB\u001b[0m \u001b[31m11.1 MB/s\u001b[0m eta \u001b[36m0:00:00\u001b[0m\n",
            "\u001b[2K     \u001b[90m━━━━━━━━━━━━━━━━━━━━━━━━━━━━━━━━━━━━━━━━\u001b[0m \u001b[32m302.4/302.4 kB\u001b[0m \u001b[31m24.1 MB/s\u001b[0m eta \u001b[36m0:00:00\u001b[0m\n",
            "\u001b[2K     \u001b[90m━━━━━━━━━━━━━━━━━━━━━━━━━━━━━━━━━━━━━━━━\u001b[0m \u001b[32m33.8/33.8 MB\u001b[0m \u001b[31m24.5 MB/s\u001b[0m eta \u001b[36m0:00:00\u001b[0m\n",
            "\u001b[2K     \u001b[90m━━━━━━━━━━━━━━━━━━━━━━━━━━━━━━━━━━━━━━━━\u001b[0m \u001b[32m542.0/542.0 kB\u001b[0m \u001b[31m37.8 MB/s\u001b[0m eta \u001b[36m0:00:00\u001b[0m\n",
            "\u001b[2K     \u001b[90m━━━━━━━━━━━━━━━━━━━━━━━━━━━━━━━━━━━━━━━━\u001b[0m \u001b[32m116.3/116.3 kB\u001b[0m \u001b[31m14.8 MB/s\u001b[0m eta \u001b[36m0:00:00\u001b[0m\n",
            "\u001b[2K     \u001b[90m━━━━━━━━━━━━━━━━━━━━━━━━━━━━━━━━━━━━━━━━\u001b[0m \u001b[32m194.1/194.1 kB\u001b[0m \u001b[31m22.0 MB/s\u001b[0m eta \u001b[36m0:00:00\u001b[0m\n",
            "\u001b[2K     \u001b[90m━━━━━━━━━━━━━━━━━━━━━━━━━━━━━━━━━━━━━━━━\u001b[0m \u001b[32m134.8/134.8 kB\u001b[0m \u001b[31m15.9 MB/s\u001b[0m eta \u001b[36m0:00:00\u001b[0m\n",
            "\u001b[2K     \u001b[90m━━━━━━━━━━━━━━━━━━━━━━━━━━━━━━━━━━━━━━━━\u001b[0m \u001b[32m401.2/401.2 kB\u001b[0m \u001b[31m32.6 MB/s\u001b[0m eta \u001b[36m0:00:00\u001b[0m\n",
            "\u001b[?25h"
          ]
        }
      ],
      "source": [
        "!pip install decord seaborn transformers evaluate accelerate ffmpeg-python av -q"
      ]
    },
    {
      "cell_type": "code",
      "execution_count": 4,
      "metadata": {
        "id": "aKUg-GAW02Br"
      },
      "outputs": [],
      "source": [
        "!pip install --upgrade --no-cache-dir gdown -q"
      ]
    },
    {
      "cell_type": "code",
      "execution_count": 5,
      "metadata": {
        "colab": {
          "base_uri": "https://localhost:8080/",
          "height": 123
        },
        "id": "hrpKD-qDBqDm",
        "outputId": "5c8b4edd-97c8-4a17-8cbe-403ab7c833aa"
      },
      "outputs": [
        {
          "output_type": "stream",
          "name": "stderr",
          "text": [
            "Downloading...\n",
            "From (original): https://drive.google.com/uc?id=1AVg5ZVESm6d91fBrLhSDx7T3jFkxokFe\n",
            "From (redirected): https://drive.google.com/uc?id=1AVg5ZVESm6d91fBrLhSDx7T3jFkxokFe&confirm=t&uuid=dc9a8a50-ed53-49a8-aa7c-013be3e3e2fa\n",
            "To: /content/model.zip\n",
            "100%|██████████| 954M/954M [00:17<00:00, 54.2MB/s]\n"
          ]
        },
        {
          "output_type": "execute_result",
          "data": {
            "text/plain": [
              "'model.zip'"
            ],
            "application/vnd.google.colaboratory.intrinsic+json": {
              "type": "string"
            }
          },
          "metadata": {},
          "execution_count": 5
        }
      ],
      "source": [
        "import gdown\n",
        "file_id = \"1AVg5ZVESm6d91fBrLhSDx7T3jFkxokFe\"\n",
        "output_file = \"model.zip\"\n",
        "gdown.download(f\"https://drive.google.com/uc?id={file_id}\", output_file)"
      ]
    },
    {
      "cell_type": "code",
      "execution_count": 6,
      "metadata": {
        "id": "d4DFzRygByQI"
      },
      "outputs": [],
      "source": [
        "!unzip -q model.zip"
      ]
    },
    {
      "cell_type": "code",
      "execution_count": 7,
      "metadata": {
        "colab": {
          "base_uri": "https://localhost:8080/"
        },
        "id": "aMhauT9s2Kdw",
        "outputId": "676320af-acfe-470b-8e44-6fe58c0386a0"
      },
      "outputs": [
        {
          "output_type": "stream",
          "name": "stdout",
          "text": [
            "Mô hình đã được tải xuống!\n"
          ]
        }
      ],
      "source": [
        "# Chạy ô này để kiểm tra mô hình đã tải xuống hay chưa\n",
        "import os\n",
        "CKPT = \"/content/checkpoint-1242\"\n",
        "if os.path.exists(CKPT):\n",
        "  print(\"Mô hình đã được tải xuống!\")\n",
        "else:\n",
        "  print(\"Mô hình chưa được tải xuống\")"
      ]
    },
    {
      "cell_type": "markdown",
      "metadata": {
        "id": "2mH3S3vPT5KE"
      },
      "source": [
        "## **Bước 3. Chạy mô hình và in ra F1 score, confusion matrix và các thông số khác**"
      ]
    },
    {
      "cell_type": "markdown",
      "metadata": {
        "id": "1sBOBDzX9NWV"
      },
      "source": [
        "Chạy lần lượt hai ô lệnh dưới đây. Sau đó refresh panel ở bên trái sẽ thấy file csv chứa kết quả tên **kikiki-predict.csv**."
      ]
    },
    {
      "cell_type": "code",
      "execution_count": 8,
      "metadata": {
        "id": "bVWFbDqiahDB"
      },
      "outputs": [],
      "source": [
        "import os\n",
        "import shutil\n",
        "import uuid\n",
        "import warnings\n",
        "\n",
        "import ffmpeg\n",
        "import pandas as pd\n",
        "import torch\n",
        "from sklearn.metrics import accuracy_score, f1_score\n",
        "from tqdm import tqdm\n",
        "from transformers import (\n",
        "    VideoMAEForVideoClassification,\n",
        "    VideoMAEImageProcessor,\n",
        "    pipeline,\n",
        ")\n",
        "\n",
        "\n",
        "ID2LABEL = {\n",
        "    0: 'barbell biceps curl',\n",
        "    1: 'bench press',\n",
        "    2: 'chest fly machine',\n",
        "    3: 'deadlift',\n",
        "    4: 'decline bench press',\n",
        "    5: 'hammer curl',\n",
        "    6: 'hip thrust',\n",
        "    7: 'incline bench press',\n",
        "    8: 'lat pulldown',\n",
        "    9: 'lateral raise',\n",
        "    10: 'leg extension',\n",
        "    11: 'leg raises',\n",
        "    12: 'plank',\n",
        "    13: 'pull Up',\n",
        "    14: 'push-up',\n",
        "    15: 'romanian deadlift',\n",
        "    16: 'russian twist',\n",
        "    17: 'shoulder press',\n",
        "    18: 'squat',\n",
        "    19: 't bar row',\n",
        "    20: 'tricep Pushdown',\n",
        "    21: 'tricep dips',\n",
        "}\n",
        "\n",
        "\n",
        "LABEL2ID = {\n",
        "    'barbell biceps curl': 0,\n",
        "    'bench press': 1,\n",
        "    'chest fly machine': 2,\n",
        "    'deadlift': 3,\n",
        "    'decline bench press': 4,\n",
        "    'hammer curl': 5,\n",
        "    'hip thrust': 6,\n",
        "    'incline bench press': 7,\n",
        "    'lat pulldown': 8,\n",
        "    'lateral raise': 9,\n",
        "    'leg extension': 10,\n",
        "    'leg raises': 11,\n",
        "    'plank': 12,\n",
        "    'pull Up': 13,\n",
        "    'push-up': 14,\n",
        "    'romanian deadlift': 15,\n",
        "    'russian twist': 16,\n",
        "    'shoulder press': 17,\n",
        "    'squat': 18,\n",
        "    't bar row': 19,\n",
        "    'tricep Pushdown': 20,\n",
        "    'tricep dips': 21,\n",
        "}\n",
        "\n",
        "\n",
        "warnings.filterwarnings(\"ignore\")\n",
        "\n",
        "\n",
        "def crop_video(video_file, start_time, end_time):\n",
        "    output_filename = os.path.join(CROPPED_DIR, f\"{uuid.uuid4()}.mp4\")\n",
        "    output_filename = str(output_filename)\n",
        "\n",
        "    video_length = int(float(ffmpeg.probe(video_file)[\"format\"][\"duration\"]))\n",
        "    if start_time == 0 and end_time == video_length:\n",
        "        shutil.copy(video_file, output_filename)\n",
        "        return output_filename\n",
        "\n",
        "    (\n",
        "        ffmpeg.input(video_file, ss=start_time, to=end_time)\n",
        "        .output(output_filename)\n",
        "        .run(quiet=True)\n",
        "    )\n",
        "    return output_filename\n",
        "\n",
        "\n",
        "def infer(model_ckpt, video_path, crop_length=5):\n",
        "    device = \"cuda\" if torch.cuda.is_available() else \"cpu\"\n",
        "\n",
        "    image_processor = VideoMAEImageProcessor.from_pretrained(model_ckpt)\n",
        "    model = VideoMAEForVideoClassification.from_pretrained(\n",
        "        model_ckpt,\n",
        "        label2id=LABEL2ID,\n",
        "        id2label=ID2LABEL,\n",
        "        ignore_mismatched_sizes=True,\n",
        "    )\n",
        "\n",
        "    video_cls = pipeline(\n",
        "        model=model,\n",
        "        task='video-classification',\n",
        "        feature_extractor=image_processor,\n",
        "        device=device,\n",
        "    )\n",
        "\n",
        "    # get video duration\n",
        "    video_length = int(float(ffmpeg.probe(video_path)[\"format\"][\"duration\"]))\n",
        "\n",
        "    # crop the video in to small consecutive clips\n",
        "    list_of_clips = []\n",
        "    for i in range(0, video_length, crop_length):\n",
        "        start_time = i\n",
        "        end_time = i + crop_length\n",
        "        if end_time > video_length:\n",
        "            end_time = video_length\n",
        "        clip_path = crop_video(video_path, start_time, end_time)\n",
        "        list_of_clips.append(clip_path)\n",
        "\n",
        "    all_clip_predictions = {}\n",
        "    for clip in list_of_clips:\n",
        "        prediction = video_cls(clip)\n",
        "        for pred in prediction:\n",
        "            all_clip_predictions[pred[\"label\"]] = (\n",
        "                all_clip_predictions.get(pred[\"label\"], 0) + pred[\"score\"]\n",
        "            )\n",
        "\n",
        "    final_prediction = max(all_clip_predictions, key=all_clip_predictions.get)\n",
        "    return final_prediction"
      ]
    },
    {
      "cell_type": "code",
      "execution_count": null,
      "metadata": {
        "colab": {
          "base_uri": "https://localhost:8080/"
        },
        "id": "Xp6VQcrhbu-Q",
        "outputId": "57264298-7e95-47f5-a0e5-a8ef456be393"
      },
      "outputs": [
        {
          "output_type": "stream",
          "name": "stderr",
          "text": [
            " 18%|█▊        | 7/39 [03:40<23:28, 44.00s/it]"
          ]
        }
      ],
      "source": [
        "CROPPED_DIR = \"/content/temp\"\n",
        "os.makedirs(CROPPED_DIR, exist_ok=True)\n",
        "\n",
        "all_results = []\n",
        "for video_file in tqdm(os.listdir(TEST_ROOT_DIR)):\n",
        "    video_path = os.path.join(TEST_ROOT_DIR, video_file)\n",
        "    try:\n",
        "        predict = infer(CKPT, video_path)\n",
        "        all_results.append((video_file, predict))\n",
        "    except Exception as e:\n",
        "        print(f\"Error processing {video_file}: {e}\")\n",
        "        all_results.append((video_file, \"error\"))\n",
        "        continue\n",
        "\n",
        "df = pd.DataFrame(all_results, columns=[\"video\", \"predict\"])\n",
        "\n",
        "df.to_csv(\"kikiki-predict.csv\", index=False)"
      ]
    }
  ],
  "metadata": {
    "accelerator": "GPU",
    "colab": {
      "gpuType": "T4",
      "provenance": []
    },
    "kernelspec": {
      "display_name": "Python 3",
      "name": "python3"
    },
    "language_info": {
      "name": "python"
    }
  },
  "nbformat": 4,
  "nbformat_minor": 0
}