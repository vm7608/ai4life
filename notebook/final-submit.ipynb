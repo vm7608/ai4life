{
  "cells": [
    {
      "cell_type": "markdown",
      "metadata": {
        "id": "cQf3zvdRRins"
      },
      "source": [
        "## **Bước 0. Đăng nhập Google**"
      ]
    },
    {
      "cell_type": "code",
      "execution_count": 1,
      "metadata": {
        "colab": {
          "base_uri": "https://localhost:8080/"
        },
        "id": "ydRtcqyiRh2f",
        "outputId": "94ba1e1e-4410-4724-dea4-5f026062f94e"
      },
      "outputs": [
        {
          "output_type": "stream",
          "name": "stdout",
          "text": [
            "Mounted at /content/drive\n"
          ]
        }
      ],
      "source": [
        "# Chạy ô này để đăng nhập google\n",
        "from google.colab import drive\n",
        "drive.mount(\"/content/drive\")"
      ]
    },
    {
      "cell_type": "markdown",
      "metadata": {
        "id": "1kyHgI7XB_LW"
      },
      "source": [
        "## **Bước 1. Nhập đường dẫn đến thư mục chứa dữ liệu test**"
      ]
    },
    {
      "cell_type": "markdown",
      "metadata": {
        "id": "49lZJ6nTMmPl"
      },
      "source": [
        "**TEST_ROOT_DIR** hợp lệ là một thư mục chứa các video cần dự đoán. Tương tự như cấu trúc thư mục **\"Test - Vòng loại\"** mà Ban tổ chức đã cung cấp.\n",
        "\n",
        "<img alt=\"image\" src=\"https://live.staticflickr.com/65535/53624122132_387b2c26d6_h.jpg\">\n",
        "\n",
        "Dán đường dẫn đến folder chứa dữ liệu test của BTC vào ô bên dưới và bấm chạy.\n"
      ]
    },
    {
      "cell_type": "code",
      "execution_count": 11,
      "metadata": {
        "id": "DSyXhOQ5fCO5"
      },
      "outputs": [],
      "source": [
        "# Dán đường dẫn đến folder chứa dữ liệu test của bạn tại đây\n",
        "TEST_ROOT_DIR = '/content/drive/MyDrive/Dữ liệu vòng chung kết'"
      ]
    },
    {
      "cell_type": "markdown",
      "metadata": {
        "id": "Zl4WG2otBZwV"
      },
      "source": [
        "## **Bước 2. Cài đặt thư viện và tải mô hình**"
      ]
    },
    {
      "cell_type": "code",
      "execution_count": 3,
      "metadata": {
        "colab": {
          "base_uri": "https://localhost:8080/"
        },
        "id": "qo3w4KYKasDn",
        "outputId": "a57ccf89-4ec8-42c1-f896-03893cff767c"
      },
      "outputs": [
        {
          "output_type": "stream",
          "name": "stdout",
          "text": [
            "\u001b[2K     \u001b[90m━━━━━━━━━━━━━━━━━━━━━━━━━━━━━━━━━━━━━━━━\u001b[0m \u001b[32m13.6/13.6 MB\u001b[0m \u001b[31m32.9 MB/s\u001b[0m eta \u001b[36m0:00:00\u001b[0m\n",
            "\u001b[2K     \u001b[90m━━━━━━━━━━━━━━━━━━━━━━━━━━━━━━━━━━━━━━━━\u001b[0m \u001b[32m84.1/84.1 kB\u001b[0m \u001b[31m9.0 MB/s\u001b[0m eta \u001b[36m0:00:00\u001b[0m\n",
            "\u001b[2K     \u001b[90m━━━━━━━━━━━━━━━━━━━━━━━━━━━━━━━━━━━━━━━━\u001b[0m \u001b[32m302.4/302.4 kB\u001b[0m \u001b[31m31.4 MB/s\u001b[0m eta \u001b[36m0:00:00\u001b[0m\n",
            "\u001b[2K     \u001b[90m━━━━━━━━━━━━━━━━━━━━━━━━━━━━━━━━━━━━━━━━\u001b[0m \u001b[32m33.8/33.8 MB\u001b[0m \u001b[31m44.5 MB/s\u001b[0m eta \u001b[36m0:00:00\u001b[0m\n",
            "\u001b[2K     \u001b[90m━━━━━━━━━━━━━━━━━━━━━━━━━━━━━━━━━━━━━━━━\u001b[0m \u001b[32m542.0/542.0 kB\u001b[0m \u001b[31m51.8 MB/s\u001b[0m eta \u001b[36m0:00:00\u001b[0m\n",
            "\u001b[2K     \u001b[90m━━━━━━━━━━━━━━━━━━━━━━━━━━━━━━━━━━━━━━━━\u001b[0m \u001b[32m116.3/116.3 kB\u001b[0m \u001b[31m17.2 MB/s\u001b[0m eta \u001b[36m0:00:00\u001b[0m\n",
            "\u001b[2K     \u001b[90m━━━━━━━━━━━━━━━━━━━━━━━━━━━━━━━━━━━━━━━━\u001b[0m \u001b[32m194.1/194.1 kB\u001b[0m \u001b[31m25.0 MB/s\u001b[0m eta \u001b[36m0:00:00\u001b[0m\n",
            "\u001b[2K     \u001b[90m━━━━━━━━━━━━━━━━━━━━━━━━━━━━━━━━━━━━━━━━\u001b[0m \u001b[32m134.8/134.8 kB\u001b[0m \u001b[31m19.6 MB/s\u001b[0m eta \u001b[36m0:00:00\u001b[0m\n",
            "\u001b[2K     \u001b[90m━━━━━━━━━━━━━━━━━━━━━━━━━━━━━━━━━━━━━━━━\u001b[0m \u001b[32m401.2/401.2 kB\u001b[0m \u001b[31m45.5 MB/s\u001b[0m eta \u001b[36m0:00:00\u001b[0m\n",
            "\u001b[?25h"
          ]
        }
      ],
      "source": [
        "!pip install decord seaborn transformers evaluate accelerate ffmpeg-python av -q"
      ]
    },
    {
      "cell_type": "code",
      "execution_count": 4,
      "metadata": {
        "id": "aKUg-GAW02Br"
      },
      "outputs": [],
      "source": [
        "!pip install --upgrade --no-cache-dir gdown -q"
      ]
    },
    {
      "cell_type": "code",
      "execution_count": 5,
      "metadata": {
        "colab": {
          "base_uri": "https://localhost:8080/"
        },
        "id": "hrpKD-qDBqDm",
        "outputId": "c3719a58-0a05-455a-b774-794bc8ce8dd0"
      },
      "outputs": [
        {
          "output_type": "stream",
          "name": "stdout",
          "text": [
            "Retrieving folder contents\n",
            "Processing file 1GaXE1ZVV_qbf_YlQ3bAgPOtXBiv1Dt2n config.json\n",
            "Processing file 1ws8NOiMx8pMAkIn-brDZOWp58lXWnB8k model.safetensors\n",
            "Processing file 12TYEdvV0uYEBcfWEPGLGrnXlYI0d2FSK optimizer.pt\n",
            "Processing file 1qEGvfrMWR9v5tNMzlT7jcmTJEDWbrvi_ preprocessor_config.json\n",
            "Processing file 1JZpk-wKaN8FIIyw520TSUjFq5tigfbDo rng_state.pth\n",
            "Processing file 1F36WH-XzGBohnAWDgnO6hGycsjc2pdmN scheduler.pt\n",
            "Processing file 1tB9oAzR1DtVwUNxWPegtJG0Jh0eX0LdC trainer_state.json\n",
            "Processing file 1VtPVJjiqrO0237r2udsNPPOElQXWMt_4 training_args.bin\n",
            "Retrieving folder contents completed\n",
            "Building directory structure\n",
            "Building directory structure completed\n",
            "Downloading...\n",
            "From: https://drive.google.com/uc?id=1GaXE1ZVV_qbf_YlQ3bAgPOtXBiv1Dt2n\n",
            "To: /content/checkpoint-6000/config.json\n",
            "100% 1.96k/1.96k [00:00<00:00, 10.5MB/s]\n",
            "Downloading...\n",
            "From (original): https://drive.google.com/uc?id=1ws8NOiMx8pMAkIn-brDZOWp58lXWnB8k\n",
            "From (redirected): https://drive.google.com/uc?id=1ws8NOiMx8pMAkIn-brDZOWp58lXWnB8k&confirm=t&uuid=ae5a2785-eb6d-49dd-baea-8a3c32009900\n",
            "To: /content/checkpoint-6000/model.safetensors\n",
            "100% 345M/345M [00:05<00:00, 59.6MB/s]\n",
            "Downloading...\n",
            "From (original): https://drive.google.com/uc?id=12TYEdvV0uYEBcfWEPGLGrnXlYI0d2FSK\n",
            "From (redirected): https://drive.google.com/uc?id=12TYEdvV0uYEBcfWEPGLGrnXlYI0d2FSK&confirm=t&uuid=cf3e43e2-cfcb-42f6-b59d-dfec57984c96\n",
            "To: /content/checkpoint-6000/optimizer.pt\n",
            "100% 690M/690M [00:13<00:00, 51.9MB/s]\n",
            "Downloading...\n",
            "From: https://drive.google.com/uc?id=1qEGvfrMWR9v5tNMzlT7jcmTJEDWbrvi_\n",
            "To: /content/checkpoint-6000/preprocessor_config.json\n",
            "100% 707/707 [00:00<00:00, 2.59MB/s]\n",
            "Downloading...\n",
            "From: https://drive.google.com/uc?id=1JZpk-wKaN8FIIyw520TSUjFq5tigfbDo\n",
            "To: /content/checkpoint-6000/rng_state.pth\n",
            "100% 14.2k/14.2k [00:00<00:00, 42.7MB/s]\n",
            "Downloading...\n",
            "From: https://drive.google.com/uc?id=1F36WH-XzGBohnAWDgnO6hGycsjc2pdmN\n",
            "To: /content/checkpoint-6000/scheduler.pt\n",
            "100% 1.06k/1.06k [00:00<00:00, 4.25MB/s]\n",
            "Downloading...\n",
            "From: https://drive.google.com/uc?id=1tB9oAzR1DtVwUNxWPegtJG0Jh0eX0LdC\n",
            "To: /content/checkpoint-6000/trainer_state.json\n",
            "100% 105k/105k [00:00<00:00, 89.6MB/s]\n",
            "Downloading...\n",
            "From: https://drive.google.com/uc?id=1VtPVJjiqrO0237r2udsNPPOElQXWMt_4\n",
            "To: /content/checkpoint-6000/training_args.bin\n",
            "100% 5.05k/5.05k [00:00<00:00, 18.4MB/s]\n",
            "Download completed\n"
          ]
        }
      ],
      "source": [
        "!gdown --folder https://drive.google.com/drive/folders/1aXQVoPqJHBlpDRuH64f9PlQlf2hFHdIU"
      ]
    },
    {
      "cell_type": "code",
      "execution_count": 12,
      "metadata": {
        "colab": {
          "base_uri": "https://localhost:8080/"
        },
        "id": "aMhauT9s2Kdw",
        "outputId": "dc1cbdd2-2e76-4077-e7a5-80aebdd30e63"
      },
      "outputs": [
        {
          "output_type": "stream",
          "name": "stdout",
          "text": [
            "Mô hình đã được tải xuống!\n"
          ]
        }
      ],
      "source": [
        "# Chạy ô này để kiểm tra mô hình đã tải xuống hay chưa\n",
        "import os\n",
        "CKPT = \"/content/checkpoint-6000\"\n",
        "if os.path.exists(CKPT):\n",
        "  print(\"Mô hình đã được tải xuống!\")\n",
        "else:\n",
        "  print(\"Mô hình chưa được tải xuống\")"
      ]
    },
    {
      "cell_type": "markdown",
      "metadata": {
        "id": "2mH3S3vPT5KE"
      },
      "source": [
        "## **Bước 3. Chạy mô hình và in ra F1 score, confusion matrix và các thông số khác**"
      ]
    },
    {
      "cell_type": "markdown",
      "metadata": {
        "id": "1sBOBDzX9NWV"
      },
      "source": [
        "Chạy lần lượt hai ô lệnh dưới đây. Sau đó refresh panel ở bên trái sẽ thấy file csv chứa kết quả tên **kikiki-predict.csv**."
      ]
    },
    {
      "cell_type": "code",
      "execution_count": 13,
      "metadata": {
        "id": "bVWFbDqiahDB"
      },
      "outputs": [],
      "source": [
        "import os\n",
        "import shutil\n",
        "import uuid\n",
        "import warnings\n",
        "import math\n",
        "\n",
        "import ffmpeg\n",
        "import pandas as pd\n",
        "import torch\n",
        "from sklearn.metrics import accuracy_score, f1_score\n",
        "from tqdm import tqdm\n",
        "from transformers import (\n",
        "    VideoMAEForVideoClassification,\n",
        "    VideoMAEImageProcessor,\n",
        "    pipeline,\n",
        ")\n",
        "\n",
        "\n",
        "ID2LABEL = {\n",
        "    0: 'barbell biceps curl',\n",
        "    1: 'bench press',\n",
        "    2: 'chest fly machine',\n",
        "    3: 'deadlift',\n",
        "    4: 'decline bench press',\n",
        "    5: 'hammer curl',\n",
        "    6: 'hip thrust',\n",
        "    7: 'incline bench press',\n",
        "    8: 'lat pulldown',\n",
        "    9: 'lateral raise',\n",
        "    10: 'leg extension',\n",
        "    11: 'leg raises',\n",
        "    12: 'plank',\n",
        "    13: 'pull Up',\n",
        "    14: 'push-up',\n",
        "    15: 'romanian deadlift',\n",
        "    16: 'russian twist',\n",
        "    17: 'shoulder press',\n",
        "    18: 'squat',\n",
        "    19: 't bar row',\n",
        "    20: 'tricep Pushdown',\n",
        "    21: 'tricep dips',\n",
        "}\n",
        "\n",
        "\n",
        "LABEL2ID = {\n",
        "    'barbell biceps curl': 0,\n",
        "    'bench press': 1,\n",
        "    'chest fly machine': 2,\n",
        "    'deadlift': 3,\n",
        "    'decline bench press': 4,\n",
        "    'hammer curl': 5,\n",
        "    'hip thrust': 6,\n",
        "    'incline bench press': 7,\n",
        "    'lat pulldown': 8,\n",
        "    'lateral raise': 9,\n",
        "    'leg extension': 10,\n",
        "    'leg raises': 11,\n",
        "    'plank': 12,\n",
        "    'pull Up': 13,\n",
        "    'push-up': 14,\n",
        "    'romanian deadlift': 15,\n",
        "    'russian twist': 16,\n",
        "    'shoulder press': 17,\n",
        "    'squat': 18,\n",
        "    't bar row': 19,\n",
        "    'tricep Pushdown': 20,\n",
        "    'tricep dips': 21,\n",
        "}\n",
        "\n",
        "\n",
        "warnings.filterwarnings(\"ignore\")\n",
        "\n",
        "\n",
        "def segment_video(video_length, chunk_size=10, overlap=3):\n",
        "    if video_length < chunk_size + overlap:\n",
        "        return [(0, video_length)]\n",
        "\n",
        "    num_chunks = math.ceil((video_length - overlap) / (chunk_size - overlap))\n",
        "    chunk_start = 0\n",
        "    segments = []\n",
        "\n",
        "    for i in range(num_chunks):\n",
        "        chunk_end = min(chunk_start + chunk_size, video_length)\n",
        "        segments.append((chunk_start, chunk_end))\n",
        "        chunk_start += chunk_size - overlap\n",
        "\n",
        "    return segments\n",
        "\n",
        "\n",
        "def crop_video(video_file, start_time, end_time, save_dir):\n",
        "    output_filename = os.path.join(save_dir, f\"{uuid.uuid4()}.mp4\")\n",
        "    output_filename = str(output_filename)\n",
        "\n",
        "    video_length = int(float(ffmpeg.probe(video_file)[\"format\"][\"duration\"]))\n",
        "    if start_time == 0 and end_time == video_length:\n",
        "        shutil.copy(video_file, output_filename)\n",
        "        return output_filename\n",
        "\n",
        "    (\n",
        "        ffmpeg.input(video_file, ss=start_time, to=end_time)\n",
        "        .output(output_filename)\n",
        "        .run(quiet=True)\n",
        "    )\n",
        "    return output_filename\n",
        "\n",
        "\n",
        "def infer_segment(model_ckpt, video_path, chunk_size=5, overlap=1):\n",
        "    device = \"cuda\" if torch.cuda.is_available() else \"cpu\"\n",
        "\n",
        "    image_processor = VideoMAEImageProcessor.from_pretrained(model_ckpt)\n",
        "    model = VideoMAEForVideoClassification.from_pretrained(\n",
        "        model_ckpt,\n",
        "        label2id=LABEL2ID,\n",
        "        id2label=ID2LABEL,\n",
        "        ignore_mismatched_sizes=True,\n",
        "    )\n",
        "\n",
        "    video_cls = pipeline(\n",
        "        model=model,\n",
        "        task='video-classification',\n",
        "        feature_extractor=image_processor,\n",
        "        device=device,\n",
        "    )\n",
        "\n",
        "    video_length = int(float(ffmpeg.probe(video_path)[\"format\"][\"duration\"]))\n",
        "    video_segments = segment_video(video_length, chunk_size, overlap)\n",
        "\n",
        "    list_of_clips = []\n",
        "    for start_time, end_time in video_segments:\n",
        "        clip_path = crop_video(video_path, start_time, end_time, CROPPED_DIR)\n",
        "        list_of_clips.append(clip_path)\n",
        "\n",
        "    all_clip_predictions = {}\n",
        "    for clip in list_of_clips:\n",
        "        prediction = video_cls(clip)\n",
        "        for pred in prediction:\n",
        "            all_clip_predictions[pred[\"label\"]] = (\n",
        "                all_clip_predictions.get(pred[\"label\"], 0) + pred[\"score\"]\n",
        "            )\n",
        "\n",
        "    final_prediction = max(all_clip_predictions, key=all_clip_predictions.get)\n",
        "    return final_prediction"
      ]
    },
    {
      "cell_type": "code",
      "execution_count": 14,
      "metadata": {
        "colab": {
          "base_uri": "https://localhost:8080/"
        },
        "id": "Xp6VQcrhbu-Q",
        "outputId": "30a65c90-9ebc-4bcb-f06b-cef8730b9a48"
      },
      "outputs": [
        {
          "output_type": "stream",
          "name": "stderr",
          "text": [
            "100%|██████████| 22/22 [13:32<00:00, 36.92s/it]\n"
          ]
        }
      ],
      "source": [
        "CROPPED_DIR = \"/content/temp\"\n",
        "os.makedirs(CROPPED_DIR, exist_ok=True)\n",
        "\n",
        "all_results = []\n",
        "for video_file in tqdm(os.listdir(TEST_ROOT_DIR)):\n",
        "    video_path = os.path.join(TEST_ROOT_DIR, video_file)\n",
        "    try:\n",
        "        predict = infer_segment(CKPT, video_path, chunk_size=5, overlap=1)\n",
        "        all_results.append((video_file, predict))\n",
        "    except Exception as e:\n",
        "        print(f\"Error processing {video_file}: {e}\")\n",
        "        all_results.append((video_file, \"error\"))\n",
        "        continue\n",
        "\n",
        "df = pd.DataFrame(all_results, columns=[\"video\", \"predict\"])\n",
        "df.to_csv(\"kikiki-predict.csv\", index=False)"
      ]
    }
  ],
  "metadata": {
    "accelerator": "GPU",
    "colab": {
      "gpuType": "T4",
      "provenance": []
    },
    "kernelspec": {
      "display_name": "Python 3",
      "name": "python3"
    },
    "language_info": {
      "name": "python"
    }
  },
  "nbformat": 4,
  "nbformat_minor": 0
}